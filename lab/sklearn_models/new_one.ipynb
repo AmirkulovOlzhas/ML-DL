{
 "cells": [
  {
   "cell_type": "code",
   "execution_count": 3,
   "id": "initial_id",
   "metadata": {
    "ExecuteTime": {
     "end_time": "2023-11-05T04:12:57.199721600Z",
     "start_time": "2023-11-05T04:12:57.181785700Z"
    },
    "collapsed": true
   },
   "outputs": [],
   "source": [
    "import pandas as pd\n",
    "\n",
    "df = pd.read_csv('data/kaggle/GOLDdata.csv')"
   ]
  },
  {
   "cell_type": "code",
   "execution_count": 5,
   "id": "7ac9d3af530fad49",
   "metadata": {
    "ExecuteTime": {
     "end_time": "2023-11-05T04:13:13.726529600Z",
     "start_time": "2023-11-05T04:13:13.708038600Z"
    },
    "collapsed": false
   },
   "outputs": [
    {
     "data": {
      "text/html": [
       "<div>\n",
       "<style scoped>\n",
       "    .dataframe tbody tr th:only-of-type {\n",
       "        vertical-align: middle;\n",
       "    }\n",
       "\n",
       "    .dataframe tbody tr th {\n",
       "        vertical-align: top;\n",
       "    }\n",
       "\n",
       "    .dataframe thead th {\n",
       "        text-align: right;\n",
       "    }\n",
       "</style>\n",
       "<table border=\"1\" class=\"dataframe\">\n",
       "  <thead>\n",
       "    <tr style=\"text-align: right;\">\n",
       "      <th></th>\n",
       "      <th>Date</th>\n",
       "      <th>Price</th>\n",
       "      <th>Open</th>\n",
       "      <th>High</th>\n",
       "      <th>Low</th>\n",
       "    </tr>\n",
       "  </thead>\n",
       "  <tbody>\n",
       "    <tr>\n",
       "      <th>0</th>\n",
       "      <td>10/27/2023</td>\n",
       "      <td>1998.5</td>\n",
       "      <td>1995.0</td>\n",
       "      <td>2019.7</td>\n",
       "      <td>1986.4</td>\n",
       "    </tr>\n",
       "    <tr>\n",
       "      <th>1</th>\n",
       "      <td>10/26/2023</td>\n",
       "      <td>1997.4</td>\n",
       "      <td>1991.2</td>\n",
       "      <td>2003.7</td>\n",
       "      <td>1981.6</td>\n",
       "    </tr>\n",
       "    <tr>\n",
       "      <th>2</th>\n",
       "      <td>10/25/2023</td>\n",
       "      <td>1994.9</td>\n",
       "      <td>1982.7</td>\n",
       "      <td>1998.6</td>\n",
       "      <td>1973.6</td>\n",
       "    </tr>\n",
       "    <tr>\n",
       "      <th>3</th>\n",
       "      <td>10/24/2023</td>\n",
       "      <td>1986.1</td>\n",
       "      <td>1984.1</td>\n",
       "      <td>1992.0</td>\n",
       "      <td>1964.6</td>\n",
       "    </tr>\n",
       "    <tr>\n",
       "      <th>4</th>\n",
       "      <td>10/23/2023</td>\n",
       "      <td>1987.8</td>\n",
       "      <td>1987.7</td>\n",
       "      <td>1994.3</td>\n",
       "      <td>1971.0</td>\n",
       "    </tr>\n",
       "    <tr>\n",
       "      <th>...</th>\n",
       "      <td>...</td>\n",
       "      <td>...</td>\n",
       "      <td>...</td>\n",
       "      <td>...</td>\n",
       "      <td>...</td>\n",
       "    </tr>\n",
       "    <tr>\n",
       "      <th>3055</th>\n",
       "      <td>1/9/2012</td>\n",
       "      <td>1608.1</td>\n",
       "      <td>1617.7</td>\n",
       "      <td>1624.6</td>\n",
       "      <td>1605.7</td>\n",
       "    </tr>\n",
       "    <tr>\n",
       "      <th>3056</th>\n",
       "      <td>1/6/2012</td>\n",
       "      <td>1616.8</td>\n",
       "      <td>1622.4</td>\n",
       "      <td>1632.3</td>\n",
       "      <td>1609.0</td>\n",
       "    </tr>\n",
       "    <tr>\n",
       "      <th>3057</th>\n",
       "      <td>1/5/2012</td>\n",
       "      <td>1620.1</td>\n",
       "      <td>1614.4</td>\n",
       "      <td>1626.8</td>\n",
       "      <td>1597.7</td>\n",
       "    </tr>\n",
       "    <tr>\n",
       "      <th>3058</th>\n",
       "      <td>1/4/2012</td>\n",
       "      <td>1612.7</td>\n",
       "      <td>1604.9</td>\n",
       "      <td>1619.8</td>\n",
       "      <td>1593.8</td>\n",
       "    </tr>\n",
       "    <tr>\n",
       "      <th>3059</th>\n",
       "      <td>1/3/2012</td>\n",
       "      <td>1600.5</td>\n",
       "      <td>1571.0</td>\n",
       "      <td>1608.7</td>\n",
       "      <td>1566.8</td>\n",
       "    </tr>\n",
       "  </tbody>\n",
       "</table>\n",
       "<p>3060 rows × 5 columns</p>\n",
       "</div>"
      ],
      "text/plain": [
       "            Date   Price    Open    High     Low\n",
       "0     10/27/2023  1998.5  1995.0  2019.7  1986.4\n",
       "1     10/26/2023  1997.4  1991.2  2003.7  1981.6\n",
       "2     10/25/2023  1994.9  1982.7  1998.6  1973.6\n",
       "3     10/24/2023  1986.1  1984.1  1992.0  1964.6\n",
       "4     10/23/2023  1987.8  1987.7  1994.3  1971.0\n",
       "...          ...     ...     ...     ...     ...\n",
       "3055    1/9/2012  1608.1  1617.7  1624.6  1605.7\n",
       "3056    1/6/2012  1616.8  1622.4  1632.3  1609.0\n",
       "3057    1/5/2012  1620.1  1614.4  1626.8  1597.7\n",
       "3058    1/4/2012  1612.7  1604.9  1619.8  1593.8\n",
       "3059    1/3/2012  1600.5  1571.0  1608.7  1566.8\n",
       "\n",
       "[3060 rows x 5 columns]"
      ]
     },
     "execution_count": 5,
     "metadata": {},
     "output_type": "execute_result"
    }
   ],
   "source": [
    "df"
   ]
  },
  {
   "cell_type": "code",
   "execution_count": 6,
   "id": "4bafbdb418b2a3eb",
   "metadata": {
    "ExecuteTime": {
     "end_time": "2023-11-05T04:14:42.329565300Z",
     "start_time": "2023-11-05T04:14:42.302716600Z"
    },
    "collapsed": false
   },
   "outputs": [],
   "source": [
    "import matplotlib.pyplot as plt"
   ]
  },
  {
   "cell_type": "code",
   "execution_count": 12,
   "id": "37df5ec927ebf837",
   "metadata": {
    "ExecuteTime": {
     "end_time": "2023-11-05T04:17:11.277818100Z",
     "start_time": "2023-11-05T04:17:11.138065300Z"
    },
    "collapsed": false
   },
   "outputs": [
    {
     "data": {
      "text/plain": [
       "[<matplotlib.lines.Line2D at 0x7f313b64eb10>]"
      ]
     },
     "execution_count": 12,
     "metadata": {},
     "output_type": "execute_result"
    },
    {
     "data": {
      "image/png": "[encoded data removed]",
      "text/plain": [
       "<Figure size 640x480 with 1 Axes>"
      ]
     },
     "metadata": {},
     "output_type": "display_data"
    }
   ],
   "source": [
    "plt.plot(df.loc[5:10,\"Date\"], df.loc[5:10,'Price'])"
   ]
  },
  {
   "cell_type": "code",
   "execution_count": null,
   "id": "46f0b880271cf134",
   "metadata": {
    "collapsed": false
   },
   "outputs": [],
   "source": []
  }
 ],
 "metadata": {
  "kernelspec": {
   "display_name": "Python 3",
   "language": "python",
   "name": "python3"
  },
  "language_info": {
   "codemirror_mode": {
    "name": "ipython",
    "version": 2
   },
   "file_extension": ".py",
   "mimetype": "text/x-python",
   "name": "python",
   "nbconvert_exporter": "python",
   "pygments_lexer": "ipython2",
   "version": "2.7.6"
  }
 },
 "nbformat": 4,
 "nbformat_minor": 5
}
