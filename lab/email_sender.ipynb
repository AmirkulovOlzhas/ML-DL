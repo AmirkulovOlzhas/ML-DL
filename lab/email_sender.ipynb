{
 "cells": [
  {
   "cell_type": "code",
   "execution_count": 1,
   "id": "c34a6a10-e213-48a7-8d97-e66044bc959a",
   "metadata": {},
   "outputs": [],
   "source": [
    "import smtplib\n",
    "from email.mime.text import MIMEText\n",
    "from email_conf import email_adr, email_pass\n",
    "\n",
    "def send_mail():\n",
    "# find data about sender\n",
    "    # query = \"SELECT smtp_server,smtp_port,smtp_pass FROM pgsmtp.user_smtp_data where smtp_user='\" +sender + \"' LIMIT 1\"\n",
    "    # result = plpy.execute(query)\n",
    "    # if result:\n",
    "    # ccs = cc\n",
    "    # Create mens\n",
    "    mens = MIMEText('some text')\n",
    "    # ccs = cc\n",
    "\n",
    "    # Conex con el server\n",
    "    mens['Subject'] = 'topic'\n",
    "    mens['From'] = email_adr\n",
    "    mens['To'] = 'vip0amirkulov@gmail.com'\n",
    "    recipients = 'vip0amirkulov@gmail.com'\n",
    "\n",
    "    try:\n",
    "        # Authenticate\n",
    "        print('Authenticating')\n",
    "        serversmtp = smtplib.SMTP_SSL('smtp.mail.ru',465)\n",
    "        serversmtp.ehlo_or_helo_if_needed()\n",
    "        serversmtp.login(user=email_adr, password=email_pass)\n",
    "\n",
    "        # Sending\n",
    "        print('Sending')\n",
    "        serversmtp.sendmail(email_adr, recipients, mens.as_string())\n",
    "\n",
    "        # close conex\n",
    "        print('close conex')\n",
    "        serversmtp.close()\n",
    "        return 'Send'\n",
    "\n",
    "    except Exception as e:\n",
    "        return 'Error , check parameters ', str(e)\n",
    "    # else:\n",
    "    #     return 'Error , no data for sender user, check in table pgsmtp.user_smtp_data'"
   ]
  },
  {
   "cell_type": "code",
   "execution_count": 4,
   "id": "8913ee27-b4b2-436c-81ac-db51ef8cd8ee",
   "metadata": {},
   "outputs": [
    {
     "name": "stdout",
     "output_type": "stream",
     "text": [
      "Authenticating\n",
      "Sending\n",
      "close conex\n"
     ]
    },
    {
     "data": {
      "text/plain": [
       "'Send'"
      ]
     },
     "execution_count": 4,
     "metadata": {},
     "output_type": "execute_result"
    }
   ],
   "source": [
    "send_mail()"
   ]
  },
  {
   "cell_type": "code",
   "execution_count": null,
   "id": "0f937271-1dfd-43b8-b74e-373766aacad1",
   "metadata": {},
   "outputs": [],
   "source": []
  }
 ],
 "metadata": {
  "kernelspec": {
   "display_name": "Python 3 (ipykernel)",
   "language": "python",
   "name": "python3"
  },
  "language_info": {
   "codemirror_mode": {
    "name": "ipython",
    "version": 3
   },
   "file_extension": ".py",
   "mimetype": "text/x-python",
   "name": "python",
   "nbconvert_exporter": "python",
   "pygments_lexer": "ipython3",
   "version": "3.11.4"
  }
 },
 "nbformat": 4,
 "nbformat_minor": 5
}
